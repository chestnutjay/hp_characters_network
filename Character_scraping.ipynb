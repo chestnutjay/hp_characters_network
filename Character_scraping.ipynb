{
 "cells": [
  {
   "cell_type": "code",
   "execution_count": 6,
   "id": "9a053474",
   "metadata": {},
   "outputs": [],
   "source": [
    "from bs4 import BeautifulSoup\n",
    "import requests\n",
    "import pandas as pd\n"
   ]
  },
  {
   "cell_type": "code",
   "execution_count": 7,
   "id": "e7d4a860",
   "metadata": {},
   "outputs": [],
   "source": [
    "url = \"https://en.wikipedia.org/wiki/List_of_Harry_Potter_characters\"\n",
    "data = requests.get(url).text"
   ]
  },
  {
   "cell_type": "code",
   "execution_count": 8,
   "id": "c610de86",
   "metadata": {},
   "outputs": [],
   "source": [
    "soup = BeautifulSoup(data, 'html.parser')"
   ]
  },
  {
   "cell_type": "code",
   "execution_count": 16,
   "id": "39288345",
   "metadata": {},
   "outputs": [],
   "source": [
    "characters_df = pd.DataFrame(columns=['character', 'info'])\n",
    "ul_length = [i for i in range(4,28)]+[i for i in range(29,45)]\n",
    "for ul in ul_length:\n",
    "    ul_element = soup.find_all('ul')[ul]\n",
    "    for li_element in ul_element.find_all('li'):\n",
    "        if len(li_element.text.split(\"–\"))>1:\n",
    "            name = li_element.text.split(\"–\")[0]\n",
    "            desc = li_element.text.split(\"–\")[1]\n",
    "        else:\n",
    "            name = \" \".join(li_element.text.split()[:2])\n",
    "            desc = \" \".join(li_element.text.split()[2:])\n",
    "        \n",
    "        characters_df = characters_df.append({'character': name, 'info': desc}, ignore_index=True)"
   ]
  },
  {
   "cell_type": "code",
   "execution_count": 19,
   "id": "06f37bab",
   "metadata": {},
   "outputs": [
    {
     "data": {
      "text/html": [
       "<div>\n",
       "<style scoped>\n",
       "    .dataframe tbody tr th:only-of-type {\n",
       "        vertical-align: middle;\n",
       "    }\n",
       "\n",
       "    .dataframe tbody tr th {\n",
       "        vertical-align: top;\n",
       "    }\n",
       "\n",
       "    .dataframe thead th {\n",
       "        text-align: right;\n",
       "    }\n",
       "</style>\n",
       "<table border=\"1\" class=\"dataframe\">\n",
       "  <thead>\n",
       "    <tr style=\"text-align: right;\">\n",
       "      <th></th>\n",
       "      <th>character</th>\n",
       "      <th>info</th>\n",
       "    </tr>\n",
       "  </thead>\n",
       "  <tbody>\n",
       "    <tr>\n",
       "      <th>0</th>\n",
       "      <td>Hannah Abbott</td>\n",
       "      <td>Hufflepuff student in Harry Potter's year. Pr...</td>\n",
       "    </tr>\n",
       "    <tr>\n",
       "      <th>1</th>\n",
       "      <td>Ludo Bagman</td>\n",
       "      <td>Head of the Department of Magical Games and S...</td>\n",
       "    </tr>\n",
       "    <tr>\n",
       "      <th>2</th>\n",
       "      <td>Bathilda Bagshot</td>\n",
       "      <td>Author of A History of Magic, and the great a...</td>\n",
       "    </tr>\n",
       "    <tr>\n",
       "      <th>3</th>\n",
       "      <td>Katie Bell</td>\n",
       "      <td>Gryffindor Quidditch Chaser one year above Ha...</td>\n",
       "    </tr>\n",
       "    <tr>\n",
       "      <th>4</th>\n",
       "      <td>Cuthbert Binns</td>\n",
       "      <td>ghost, History of Magic professor.</td>\n",
       "    </tr>\n",
       "    <tr>\n",
       "      <th>...</th>\n",
       "      <td>...</td>\n",
       "      <td>...</td>\n",
       "    </tr>\n",
       "    <tr>\n",
       "      <th>197</th>\n",
       "      <td>Scabbers</td>\n",
       "      <td>Ron Weasley's pet rat in the first three stor...</td>\n",
       "    </tr>\n",
       "    <tr>\n",
       "      <th>198</th>\n",
       "      <td>Scabior</td>\n",
       "      <td>Snatcher who captures Harry, Ron and Hermione...</td>\n",
       "    </tr>\n",
       "    <tr>\n",
       "      <th>199</th>\n",
       "      <td>Travers</td>\n",
       "      <td>Wizard and Death Eater who escapes from Azkab...</td>\n",
       "    </tr>\n",
       "    <tr>\n",
       "      <th>200</th>\n",
       "      <td>Trevor</td>\n",
       "      <td>Neville Longbottom's perpetually-misplaced pe...</td>\n",
       "    </tr>\n",
       "    <tr>\n",
       "      <th>201</th>\n",
       "      <td>Winky</td>\n",
       "      <td>A female house-elf who belonged to Barty Crou...</td>\n",
       "    </tr>\n",
       "  </tbody>\n",
       "</table>\n",
       "<p>202 rows × 2 columns</p>\n",
       "</div>"
      ],
      "text/plain": [
       "             character                                               info\n",
       "0       Hannah Abbott    Hufflepuff student in Harry Potter's year. Pr...\n",
       "1         Ludo Bagman    Head of the Department of Magical Games and S...\n",
       "2    Bathilda Bagshot    Author of A History of Magic, and the great a...\n",
       "3          Katie Bell    Gryffindor Quidditch Chaser one year above Ha...\n",
       "4      Cuthbert Binns                  ghost, History of Magic professor.\n",
       "..                 ...                                                ...\n",
       "197          Scabbers    Ron Weasley's pet rat in the first three stor...\n",
       "198           Scabior    Snatcher who captures Harry, Ron and Hermione...\n",
       "199           Travers    Wizard and Death Eater who escapes from Azkab...\n",
       "200            Trevor    Neville Longbottom's perpetually-misplaced pe...\n",
       "201             Winky    A female house-elf who belonged to Barty Crou...\n",
       "\n",
       "[202 rows x 2 columns]"
      ]
     },
     "execution_count": 19,
     "metadata": {},
     "output_type": "execute_result"
    }
   ],
   "source": [
    "characters_df\n"
   ]
  },
  {
   "cell_type": "code",
   "execution_count": null,
   "id": "6ee46ed8",
   "metadata": {},
   "outputs": [],
   "source": [
    "characters_df.to_csv(\"characters.csv\")"
   ]
  }
 ],
 "metadata": {
  "kernelspec": {
   "display_name": "Python 3.8.3 ('base')",
   "language": "python",
   "name": "python3"
  },
  "language_info": {
   "codemirror_mode": {
    "name": "ipython",
    "version": 3
   },
   "file_extension": ".py",
   "mimetype": "text/x-python",
   "name": "python",
   "nbconvert_exporter": "python",
   "pygments_lexer": "ipython3",
   "version": "3.8.3"
  },
  "vscode": {
   "interpreter": {
    "hash": "9080d0d9e876040599225a99b678a70781bb2b706bedc1f7d8bf7d473d9175b9"
   }
  }
 },
 "nbformat": 4,
 "nbformat_minor": 5
}
